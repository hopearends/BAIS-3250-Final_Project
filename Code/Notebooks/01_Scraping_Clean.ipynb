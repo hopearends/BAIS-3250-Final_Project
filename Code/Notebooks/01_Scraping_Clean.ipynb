{
 "cells": [
  {
   "cell_type": "markdown",
   "id": "18df74f1-2e4d-41ed-a53c-2f6d2cc0cf15",
   "metadata": {},
   "source": [
    "# Cleaned Attendance Data\n",
    "\n",
    "#### NFL Team Attendance From 2010 - 2023. This data was scraped in conjunction with a key statistics csv file found on Kaggle to analyze how attendance trends have changed over time along with what ket statistics effect attendance numbers.#\n",
    "\n",
    "#### The data ws scrapped from this url https://www.espn.com/nfl/attendance/_/year/20XX (with the XX depending on what year)\n",
    "\n",
    "#### This jupiter notebook cleans the original data file of the scraped data from ESPN.com"
   ]
  },
  {
   "cell_type": "code",
   "execution_count": 2,
   "id": "028c5c3f-eb3d-477f-9a8d-277dd5ec60e9",
   "metadata": {},
   "outputs": [],
   "source": [
    "# import required libraires\n",
    "\n",
    "import pandas as pd"
   ]
  },
  {
   "cell_type": "code",
   "execution_count": 3,
   "id": "7b9a62fd-0feb-418b-bd9b-983de6b09875",
   "metadata": {},
   "outputs": [],
   "source": [
    "# read in the orignal data csv file\n",
    "merged_data = pd.read_csv(\"raw_data.csv\", encoding= 'utf-8')"
   ]
  },
  {
   "cell_type": "code",
   "execution_count": 4,
   "id": "a1136875-1587-4506-8801-603d3c242456",
   "metadata": {},
   "outputs": [],
   "source": [
    "years = [2023, 2022, 2021, 2019, 2018, 2017, 2016, 2015, 2014, 2013, 2012, 2011, 2010]"
   ]
  },
  {
   "cell_type": "code",
   "execution_count": 5,
   "id": "9b878f38-74f0-47eb-8e15-bd0c18bed775",
   "metadata": {},
   "outputs": [
    {
     "name": "stdout",
     "output_type": "stream",
     "text": [
      "Updated columns after renaming:\n",
      "Index(['team', 'overall_gms_2023', 'fan_att_2023', 'avg_fan_att_2023', 'year',\n",
      "       'overall_gms_2022', 'fan_att_2022', 'avg_fan_att_2022', 'year_2022',\n",
      "       'overall_gms_2021', 'fan_att_2021', 'avg_fan_att_2021', 'year_2021',\n",
      "       'overall_gms_2019', 'fan_att_2019', 'avg_fan_att_2019', 'year_2019',\n",
      "       'overall_gms_2018', 'fan_att_2018', 'avg_fan_att_2018', 'year_2018',\n",
      "       'overall_gms_2017', 'fan_att_2017', 'avg_fan_att_2017', 'year_2017',\n",
      "       'overall_gms_2016', 'fan_att_2016', 'avg_fan_att_2016', 'year_2016',\n",
      "       'overall_gms_2015', 'fan_att_2015', 'avg_fan_att_2015', 'year_2015',\n",
      "       'overall_gms_2014', 'fan_att_2014', 'avg_fan_att_2014', 'year_2014',\n",
      "       'overall_gms_2013', 'fan_att_2013', 'avg_fan_att_2013', 'year_2013',\n",
      "       'overall_gms_2012', 'fan_att_2012', 'avg_fan_att_2012', 'year_2012',\n",
      "       'overall_gms_2011', 'fan_att_2011', 'avg_fan_att_2011', 'year_2011',\n",
      "       'overall_gms_2010', 'fan_att_2010', 'avg_fan_att_2010', 'year_2010'],\n",
      "      dtype='object')\n"
     ]
    }
   ],
   "source": [
    "# Initialize the renaming dictionary\n",
    "rename_dict = {}\n",
    "\n",
    "# Loop through the years to create the column renaming mappings\n",
    "for year in years:\n",
    "    rename_dict[f'overall_total_{year}'] = f'fan_att_{year}'\n",
    "    rename_dict[f'overall_avg_{year}'] = f'avg_fan_att_{year}'\n",
    "\n",
    "# Apply the renaming\n",
    "merged_data = merged_data.rename(columns=rename_dict)\n",
    "\n",
    "# Verify the changes by displaying the updated columns\n",
    "print(\"Updated columns after renaming:\")\n",
    "print(merged_data.columns)"
   ]
  },
  {
   "cell_type": "code",
   "execution_count": 6,
   "id": "6bc5e579-2865-44e2-be2e-5f0285d2a502",
   "metadata": {},
   "outputs": [
    {
     "data": {
      "text/plain": [
       "Index(['team', 'overall_gms_2023', 'fan_att_2023', 'avg_fan_att_2023', 'year',\n",
       "       'overall_gms_2022', 'fan_att_2022', 'avg_fan_att_2022', 'year_2022',\n",
       "       'overall_gms_2021', 'fan_att_2021', 'avg_fan_att_2021', 'year_2021',\n",
       "       'overall_gms_2019', 'fan_att_2019', 'avg_fan_att_2019', 'year_2019',\n",
       "       'overall_gms_2018', 'fan_att_2018', 'avg_fan_att_2018', 'year_2018',\n",
       "       'overall_gms_2017', 'fan_att_2017', 'avg_fan_att_2017', 'year_2017',\n",
       "       'overall_gms_2016', 'fan_att_2016', 'avg_fan_att_2016', 'year_2016',\n",
       "       'overall_gms_2015', 'fan_att_2015', 'avg_fan_att_2015', 'year_2015',\n",
       "       'overall_gms_2014', 'fan_att_2014', 'avg_fan_att_2014', 'year_2014',\n",
       "       'overall_gms_2013', 'fan_att_2013', 'avg_fan_att_2013', 'year_2013',\n",
       "       'overall_gms_2012', 'fan_att_2012', 'avg_fan_att_2012', 'year_2012',\n",
       "       'overall_gms_2011', 'fan_att_2011', 'avg_fan_att_2011', 'year_2011',\n",
       "       'overall_gms_2010', 'fan_att_2010', 'avg_fan_att_2010', 'year_2010'],\n",
       "      dtype='object')"
      ]
     },
     "execution_count": 6,
     "metadata": {},
     "output_type": "execute_result"
    }
   ],
   "source": [
    "merged_data.columns"
   ]
  },
  {
   "cell_type": "code",
   "execution_count": 7,
   "id": "4ea2e374-b797-4e24-a89b-8d46b180b18e",
   "metadata": {},
   "outputs": [
    {
     "data": {
      "text/plain": [
       "team                object\n",
       "overall_gms_2023     int64\n",
       "fan_att_2023        object\n",
       "avg_fan_att_2023    object\n",
       "year                 int64\n",
       "overall_gms_2022     int64\n",
       "fan_att_2022        object\n",
       "avg_fan_att_2022    object\n",
       "year_2022            int64\n",
       "overall_gms_2021     int64\n",
       "fan_att_2021        object\n",
       "avg_fan_att_2021    object\n",
       "year_2021            int64\n",
       "overall_gms_2019     int64\n",
       "fan_att_2019        object\n",
       "avg_fan_att_2019    object\n",
       "year_2019            int64\n",
       "overall_gms_2018     int64\n",
       "fan_att_2018        object\n",
       "avg_fan_att_2018    object\n",
       "year_2018            int64\n",
       "overall_gms_2017     int64\n",
       "fan_att_2017        object\n",
       "avg_fan_att_2017    object\n",
       "year_2017            int64\n",
       "overall_gms_2016     int64\n",
       "fan_att_2016        object\n",
       "avg_fan_att_2016    object\n",
       "year_2016            int64\n",
       "overall_gms_2015     int64\n",
       "fan_att_2015        object\n",
       "avg_fan_att_2015    object\n",
       "year_2015            int64\n",
       "overall_gms_2014     int64\n",
       "fan_att_2014        object\n",
       "avg_fan_att_2014    object\n",
       "year_2014            int64\n",
       "overall_gms_2013     int64\n",
       "fan_att_2013        object\n",
       "avg_fan_att_2013    object\n",
       "year_2013            int64\n",
       "overall_gms_2012     int64\n",
       "fan_att_2012        object\n",
       "avg_fan_att_2012    object\n",
       "year_2012            int64\n",
       "overall_gms_2011     int64\n",
       "fan_att_2011        object\n",
       "avg_fan_att_2011    object\n",
       "year_2011            int64\n",
       "overall_gms_2010     int64\n",
       "fan_att_2010        object\n",
       "avg_fan_att_2010    object\n",
       "year_2010            int64\n",
       "dtype: object"
      ]
     },
     "execution_count": 7,
     "metadata": {},
     "output_type": "execute_result"
    }
   ],
   "source": [
    "merged_data.dtypes"
   ]
  },
  {
   "cell_type": "code",
   "execution_count": 8,
   "id": "151b9ce2-4067-4d68-ab30-d0422bbb0b9f",
   "metadata": {},
   "outputs": [],
   "source": [
    "merged_data.to_csv('nfl_attendance_cleaned.csv', header=True, index=False, encoding='utf-8')"
   ]
  },
  {
   "cell_type": "code",
   "execution_count": 9,
   "id": "bd60023b-d2d7-4c9d-8063-1c2c234ca8f9",
   "metadata": {},
   "outputs": [],
   "source": [
    "long_merged_data = pd.melt(\n",
    "    merged_data,\n",
    "    id_vars=[\"team\"],  \n",
    "    var_name=\"year_metric\",  \n",
    "    value_name=\"value\"  \n",
    ")"
   ]
  },
  {
   "cell_type": "code",
   "execution_count": 10,
   "id": "d613ca6d-cf9a-4f4e-9d95-a97bbbfe2b09",
   "metadata": {},
   "outputs": [],
   "source": [
    "long_merged_data[\"year\"] = long_merged_data[\"year_metric\"].str.extract(r'(\\d{4})')  \n",
    "long_merged_data[\"metric\"] = long_merged_data[\"year_metric\"].str.extract(r'(fan_att|avg_fan_att)')"
   ]
  },
  {
   "cell_type": "code",
   "execution_count": 11,
   "id": "d07e2e85-4bd8-474c-97e2-391da8d89d01",
   "metadata": {},
   "outputs": [],
   "source": [
    "final_merged_data = long_merged_data.pivot_table(\n",
    "    index=[\"team\", \"year\"],  \n",
    "    columns=\"metric\",  \n",
    "    values=\"value\",  \n",
    "    aggfunc=\"first\"  \n",
    ").reset_index()"
   ]
  },
  {
   "cell_type": "code",
   "execution_count": 12,
   "id": "2073e308-0aed-4df2-9765-e451364cbd7c",
   "metadata": {},
   "outputs": [],
   "source": [
    "final_merged_data.columns.name = None\n",
    "final_merged_data = final_merged_data.rename(columns={\"fan_att\": \"Fan Attendance\", \"avg_fan_att\": \"Average Fan Attendance\"})"
   ]
  },
  {
   "cell_type": "code",
   "execution_count": 13,
   "id": "6e2c6ebd-e31e-4ff8-9de2-b9f32c90d86b",
   "metadata": {},
   "outputs": [
    {
     "data": {
      "text/html": [
       "<div>\n",
       "<style scoped>\n",
       "    .dataframe tbody tr th:only-of-type {\n",
       "        vertical-align: middle;\n",
       "    }\n",
       "\n",
       "    .dataframe tbody tr th {\n",
       "        vertical-align: top;\n",
       "    }\n",
       "\n",
       "    .dataframe thead th {\n",
       "        text-align: right;\n",
       "    }\n",
       "</style>\n",
       "<table border=\"1\" class=\"dataframe\">\n",
       "  <thead>\n",
       "    <tr style=\"text-align: right;\">\n",
       "      <th></th>\n",
       "      <th>team</th>\n",
       "      <th>year</th>\n",
       "      <th>Average Fan Attendance</th>\n",
       "      <th>Fan Attendance</th>\n",
       "    </tr>\n",
       "  </thead>\n",
       "  <tbody>\n",
       "    <tr>\n",
       "      <th>0</th>\n",
       "      <td>Arizona Cardinals</td>\n",
       "      <td>2010</td>\n",
       "      <td>63,920</td>\n",
       "      <td>1,022,730</td>\n",
       "    </tr>\n",
       "    <tr>\n",
       "      <th>1</th>\n",
       "      <td>Arizona Cardinals</td>\n",
       "      <td>2011</td>\n",
       "      <td>62,603</td>\n",
       "      <td>1,001,663</td>\n",
       "    </tr>\n",
       "    <tr>\n",
       "      <th>2</th>\n",
       "      <td>Arizona Cardinals</td>\n",
       "      <td>2012</td>\n",
       "      <td>64,265</td>\n",
       "      <td>1,028,241</td>\n",
       "    </tr>\n",
       "    <tr>\n",
       "      <th>3</th>\n",
       "      <td>Arizona Cardinals</td>\n",
       "      <td>2013</td>\n",
       "      <td>62,356</td>\n",
       "      <td>997,710</td>\n",
       "    </tr>\n",
       "    <tr>\n",
       "      <th>4</th>\n",
       "      <td>Arizona Cardinals</td>\n",
       "      <td>2014</td>\n",
       "      <td>65,832</td>\n",
       "      <td>1,053,326</td>\n",
       "    </tr>\n",
       "  </tbody>\n",
       "</table>\n",
       "</div>"
      ],
      "text/plain": [
       "                team  year Average Fan Attendance Fan Attendance\n",
       "0  Arizona Cardinals  2010                 63,920      1,022,730\n",
       "1  Arizona Cardinals  2011                 62,603      1,001,663\n",
       "2  Arizona Cardinals  2012                 64,265      1,028,241\n",
       "3  Arizona Cardinals  2013                 62,356        997,710\n",
       "4  Arizona Cardinals  2014                 65,832      1,053,326"
      ]
     },
     "metadata": {},
     "output_type": "display_data"
    }
   ],
   "source": [
    "display(final_merged_data.head())"
   ]
  },
  {
   "cell_type": "code",
   "execution_count": 14,
   "id": "ac403740-fef8-4a2a-bee0-ae98d44e4b85",
   "metadata": {},
   "outputs": [],
   "source": [
    "final_merged_data.to_csv(\"fan_attendance.csv\", index=False, encoding=\"utf-8\")"
   ]
  }
 ],
 "metadata": {
  "kernelspec": {
   "display_name": "Python 3 (ipykernel)",
   "language": "python",
   "name": "python3"
  },
  "language_info": {
   "codemirror_mode": {
    "name": "ipython",
    "version": 3
   },
   "file_extension": ".py",
   "mimetype": "text/x-python",
   "name": "python",
   "nbconvert_exporter": "python",
   "pygments_lexer": "ipython3",
   "version": "3.12.4"
  }
 },
 "nbformat": 4,
 "nbformat_minor": 5
}
